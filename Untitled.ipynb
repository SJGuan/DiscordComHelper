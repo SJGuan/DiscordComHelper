{
 "cells": [
  {
   "cell_type": "code",
   "execution_count": 1,
   "metadata": {},
   "outputs": [],
   "source": [
    "from bs4 import BeautifulSoup\n",
    "import urllib.request as urllib2"
   ]
  },
  {
   "cell_type": "code",
   "execution_count": 2,
   "metadata": {},
   "outputs": [],
   "source": [
    "# link = \"https://open.spotify.com/playlist/2VDi83DPAth6CDD3n3WzGF?si=s7-lEyMYQEmEf_go0oFcZw\"\n",
    "# response = urllib2.urlopen(link)\n",
    "# page = response.read()\n",
    "# print(page)\n",
    "f = open(\"./snugs2.html\", encoding=\"utf8\")\n",
    "page_content = BeautifulSoup(f,'lxml')\n",
    "sections = page_content.find_all('div', class_ = \"track-name-wrapper tracklist-top-align\")\n",
    "# sections = page_content.find_all('div',class_=\"tracklist-name ellipsis-one-line\")\n",
    "# artists = page_content.find_all('a',class_=\"tracklist-row__artist-name-link\")\n",
    "play_commands =[]\n",
    "for section in sections:\n",
    "    song_section = section.div\n",
    "    song = song_section.text\n",
    "    art_section = section.a\n",
    "    artist = art_section.text\n",
    "    play_commands.append(\"!play \"+song+\" by \" + artist+'\\n')\n",
    "file1 = open(\"./songs.txt\",\"a\")\n",
    "for i in play_commands:\n",
    "    file1.write(i)\n",
    "file1.close()\n",
    "#     print('song: {}----artist: {}'.format(song, artist))\n",
    "# for section in sections:\n",
    "#     song = section.text\n",
    "#     command_name = \"!play \"+song\n",
    "#     songs.append(command_name)"
   ]
  },
  {
   "cell_type": "code",
   "execution_count": 1,
   "metadata": {},
   "outputs": [
    {
     "name": "stdout",
     "output_type": "stream",
     "text": [
      "['!play Imagine by Jack Johnson\\n', '!play Let Your Hair Down by MAGIC!\\n', '!play Take Me to Church by Hozier\\n', '!play Say It by Tory Lanez\\n', '!play Bubble Gum by Clairo\\n', '!play Gravity by John Mayer\\n', '!play Faded by Alan Walker\\n', '!play I Feel It Coming by The Weeknd\\n', \"!play i hate u, i love u (feat. olivia o'brien) by gnash\\n\", '!play Beautiful Birds - Acoustic by Passenger\\n', '!play I Will Follow You by RIVVRS\\n', '!play Slow Motion by Trey Songz\\n', '!play Weekend by Louis The Child\\n', '!play PILLOWTALK by ZAYN\\n', '!play 25 in Barcelona by JP Saxe\\n', '!play Facebook Story by Frank Ocean\\n', '!play Praying by Pentatonix\\n', '!play Higher by DJ Hotday\\n', '!play YOUTH by Troye Sivan\\n', '!play idontwannabeyouanymore by Billie Eilish\\n', '!play Break Up Every Night by The Chainsmokers\\n', '!play Brown Eyed Girl by Van Morrison\\n', '!play Your Body Is a Wonderland by John Mayer\\n', '!play Talk by Khalid\\n', '!play All Time Low by Jon Bellion\\n', '!play Piano by Ariana Grande\\n', '!play Playinwitme (feat. Kehlani) by KYLE\\n', '!play LOYALTY. FEAT. RIHANNA. by Kendrick Lamar\\n', '!play Too Good At Goodbyes by Sam Smith\\n', '!play Stolen Dance by Milky Chance\\n', '!play Tough - Acoustic by Lewis Capaldi\\n', '!play Jar of Hearts by Christina Perri\\n', '!play All the Little Lights by Passenger\\n', '!play So Young by Portugal. The Man\\n', '!play Empty by Kevin Abstract\\n', '!play Home by Phillip Phillips\\n', '!play Crooked Smile (feat. TLC) by J. Cole\\n', '!play Washing Dishes by Jack Johnson\\n', '!play Godspeed by Frank Ocean\\n', '!play Let It Be - Remastered 2009 by The Beatles\\n', '!play Slow Dancing in a Burning Room by John Mayer\\n', '!play Chandelier by Sia\\n', '!play Stay by Pentatonix\\n', '!play Free by Donavon Frankenreiter\\n', \"!play You're My Best Friend by Straight No Chaser\\n\", '!play Doubt It by KYLE\\n', '!play Novacane by Frank Ocean\\n', '!play Seigfried by Frank Ocean\\n', '!play ABC by The Jackson 5\\n', '!play Problem by Pentatonix\\n', '!play Gone, Gone, Gone by Phillip Phillips\\n', '!play Marry You by Bruno Mars\\n', '!play Starving by Hailee Steinfeld\\n', '!play CAN\\'T STOP THE FEELING! (Original Song from DreamWorks Animation\\'s \"TROLLS\") by Justin Timberlake\\n', '!play Finish Line / Drown (feat. T-Pain, Kirk Franklin, Eryn Allen Kane & Noname) by Chance the Rapper\\n', '!play Self Control by Frank Ocean\\n', '!play Uptown Funk (feat. Bruno Mars) by Mark Ronson\\n', '!play Love Lies (with Normani) by Khalid\\n', '!play Hold It Down by Noah Kahan\\n', \"!play when the party's over by Billie Eilish\\n\", '!play Sunday Candy by Donnie Trumpet & The Social Experiment\\n', '!play Down By The River by Milky Chance\\n', '!play Love Me Harder by Ariana Grande\\n', '!play Honey by Kehlani\\n', '!play Electric Feel by MGMT\\n', '!play Attention by Pentatonix\\n', '!play Love On The Brain by Rihanna\\n', '!play Walk Me Home by P!nk\\n', '!play Something Just Like This by The Chainsmokers\\n', '!play Sitting, Waiting, Wishing by Jack Johnson\\n', '!play Everybody Talks by Neon Trees\\n', '!play Ex Calling by 6LACK\\n', \"!play We Don't Talk Anymore (feat. Selena Gomez) by Charlie Puth\\n\", '!play Wonderwall by Straight No Chaser\\n', '!play Here Comes The Sun - Remastered 2009 by The Beatles\\n', '!play GINGER by BROCKHAMPTON\\n', '!play Juke Jam (feat. Justin Bieber & Towkio) by Chance the Rapper\\n', '!play Sing by Ed Sheeran\\n', '!play Silence by Marshmello\\n', '!play Latch - Acoustic by Sam Smith\\n', '!play The Scientist by Coldplay\\n', '!play West Coast by Coconut Records\\n', '!play My Mind Is For Sale by Jack Johnson\\n', '!play Oh Klahoma by Jack Stauber\\n', '!play How I Feel by Flo Rida\\n', '!play Sunflower by Rex Orange County\\n', '!play Never Forget You by Zara Larsson\\n', '!play Everything - Acoustic by Passenger\\n', '!play SUGAR by BROCKHAMPTON\\n', '!play Home Again by Michael Kiwanuka\\n', '!play First by Cold War Kids\\n', '!play Wow Freestyle (feat. Kendrick Lamar) by Jay Rock\\n', '!play Lemonade - Ukulele Version by Jeremy Passion\\n', \"!play Free Fallin' - Live at the Nokia Theatre, Los Angeles, CA - December 2007 by John Mayer\\n\", '!play Skyline To by Frank Ocean\\n', '!play Zombie by Call Me Karizma\\n', \"!play Don't Wanna Fall In Love by KYLE\\n\", '!play Shut Up and Dance by WALK THE MOON\\n', \"!play Danny's Song by Loggins & Messina\\n\", '!play Never Be the Same by Camila Cabello\\n', '!play Fresh Eyes by Andy Grammer\\n', \"!play I'm Ready by AJR\\n\", '!play Dance All Night by Dirty Heads\\n', '!play Napkins by RIZ LA VIE\\n', '!play Chanel by Frank Ocean\\n', '!play Closer by The Chainsmokers\\n', \"!play Honey, I'm Good. by Andy Grammer\\n\", '!play Pink + White by Frank Ocean\\n', '!play Lay Me Down by Dirty Heads\\n', '!play Chicago Freestyle (feat. Giveon) by Drake\\n', '!play Hotel California - 2013 Remaster by Eagles\\n', \"!play i'm so tired... by Lauv\\n\", '!play White Iverson by Post Malone\\n', '!play We Go High by Chance the Rapper\\n', '!play Best Friend by Rex Orange County\\n', '!play Hopeless by Khalid\\n', \"!play Life's for the Living by Passenger\\n\", '!play Sugar by Maroon 5\\n', '!play Lean On by Pentatonix\\n', '!play Wifey by Victor J Sefo\\n', '!play Stay by Zedd\\n', '!play Better Together by Jack Johnson\\n', \"!play That's What I Like by Bruno Mars\\n\", '!play Navajo by Masego\\n', '!play Biking by Frank Ocean\\n', '!play Heroes (we could be) by Alesso\\n', '!play Acquainted by The Weeknd\\n', '!play Too Good At Goodbyes by Sam Smith\\n', '!play Trampoline by Kalin and Myles\\n', '!play On My Mind by Ellie Goulding\\n', '!play Body Like A Back Road by Sam Hunt\\n', '!play ocean eyes by Billie Eilish\\n', \"!play Like I'm Gonna Lose You (feat. John Legend) by Meghan Trainor\\n\", '!play Issues by Pentatonix\\n', '!play All of Me by John Legend\\n', '!play Buttercup by Jack Stauber\\n', '!play death bed (coffee for your head) by Powfu\\n', '!play Faith - Remastered by George Michael\\n', '!play September Song by JP Cooper\\n', '!play Money On My Mind by Sam Smith\\n', '!play Angels (feat. Saba) by Chance the Rapper\\n', '!play Island In The Sun by Weezer\\n', \"!play It's Strange by Louis The Child\\n\", '!play Come a Little Closer by Cage The Elephant\\n', \"!play Fool's Gold - Acoustic by Passenger\\n\", '!play Lush Life by Zara Larsson\\n', '!play Glorious (feat. Skylar Grey) by Macklemore\\n', '!play Clocks by Coldplay\\n', \"!play Let's Do It Again by J Boog\\n\", '!play Alien Boy by Oliver Tree\\n', '!play Never Go Back by Dennis Lloyd\\n', '!play When We Were Young by Adele\\n', \"!play I Won't Give Up by Jason Mraz\\n\", '!play FRIENDS by Marshmello\\n', '!play Riptide by Vance Joy\\n', '!play Troublemaker (feat. Flo Rida) by Olly Murs\\n', '!play Meant to Be (feat. Florida Georgia Line) by Bebe Rexha\\n', '!play I Like Me Better by Lauv\\n', '!play Come to Me by The Goo Goo Dolls\\n', '!play Stuck With Me by Timeflies\\n', '!play Shower by Becky G\\n', '!play California Sun by The Rivieras\\n', '!play Good Mood by Rei\\n', '!play I See Fire by Ed Sheeran\\n', '!play Family (Blended Babies Remix) [feat. Chance the Rapper & Vic Mensa] by Blended Babies\\n', '!play Radioactive by Pentatonix\\n', '!play Ghost by Ella Henderson\\n', '!play lovely (with Khalid) by Billie Eilish\\n', '!play Nights by Frank Ocean\\n', '!play I Lived by OneRepublic\\n', '!play Attention by Charlie Puth\\n', '!play do re mi by blackbear\\n', '!play Ignition by William Singe\\n', '!play All My Friends (feat. Tinashe & Chance the Rapper) by Snakehips\\n', '!play Stay (feat. Maty Noyes) by Kygo\\n', '!play Classic by MKTO\\n', '!play Fade by Lewis Capaldi\\n', '!play Airplane Mode by Limbo\\n', '!play This Is What You Came For (feat. Rihanna) by Calvin Harris\\n', '!play You & Me by Marc E. Bassy\\n', '!play Cold Cold Cold by Cage The Elephant\\n', '!play Mercy by Lewis Capaldi\\n', '!play Boys Will Be Bugs by Cavetown\\n', '!play Planez by Jeremih\\n', '!play Maps by Maroon 5\\n', '!play Ho Hey by The Lumineers\\n', \"!play I'm Not The Only One by Sam Smith\\n\", '!play Saved by Khalid\\n', '!play Tropicana by Iso Indies\\n', '!play Sorry Not Sorry by Pentatonix\\n', '!play Tenerife Sea by Ed Sheeran\\n', '!play Cool (feat. Marc E. Bassy, Gucci Mane) by Felix Jaehn\\n', '!play Never Be Like You (feat. Kai) by Flume\\n', '!play Life Of The Party by Shawn Mendes\\n', '!play Slow Down Love by Louis The Child\\n', '!play Stitches by Shawn Mendes\\n', \"!play What's the Use? by Mac Miller\\n\", '!play Cool Kids by Echosmith\\n', '!play You & Me & the Bottle Makes Three / Single Ladies by Straight No Chaser\\n', '!play fOoL fOr YoU by ZAYN\\n', '!play Blue World by Mac Miller\\n', '!play Tattooed Heart by Ariana Grande\\n', '!play New Rules x Are You That Somebody? by Pentatonix\\n', \"!play Can't Help Falling In Love by Pentatonix\\n\", '!play Praying by Kesha\\n', '!play Let You Down by NF\\n', '!play 50 Ways to Say Goodbye by Train\\n', '!play Call On Me by Starley\\n', '!play Therapy by Khalid\\n', '!play Favorite Song by Chance the Rapper\\n', '!play American Teen by Khalid\\n', '!play Wasted by Tiësto\\n', '!play Bonfire Heart by James Blunt\\n', '!play Lay It All on Me (feat. Ed Sheeran) by Rudimental\\n', '!play Trouble by Cage The Elephant\\n', '!play Marvin Gaye (feat. Meghan Trainor) by Charlie Puth\\n', '!play Electric Love by BØRNS\\n', '!play Renegades by X Ambassadors\\n', '!play Sober by Childish Gambino\\n', '!play Edition by Rex Orange County\\n', '!play Leave Your Lover by Sam Smith\\n', '!play A Dozen Roses by Sammy Johnson\\n', '!play Cigarette Daydreams by Cage The Elephant\\n', \"!play Don't Wanna Know (feat. Kendrick Lamar) by Maroon 5\\n\", '!play Stay With Me by Sam Smith\\n', '!play Despacito x Shape Of You by Pentatonix\\n', '!play Blinding Lights by The Weeknd\\n', '!play Savage (feat. Flux Pavilion & MAX) by Whethan\\n', '!play Fire by Louis The Child\\n', '!play Eastside (with Halsey & Khalid) by benny blanco\\n', '!play Come Back to Earth by Mac Miller\\n', '!play Somebody by Natalie La Rose\\n', '!play Sign of the Times by Harry Styles\\n', '!play Banana Pancakes by Jack Johnson\\n', '!play Never Gonna Let You Down by Colbie Caillat\\n', '!play Feels Great (feat. Fetty Wap & CVBZ) by Cheat Codes\\n', '!play Weak by AJR\\n', '!play Hymn for the Weekend - Seeb Remix by Coldplay\\n', '!play SOS by Avicii\\n', '!play Sucker by Jonas Brothers\\n', '!play Ignition - Remix by R. Kelly\\n', '!play For A Better Day by Avicii\\n', '!play Prayer in C - Robin Schulz Radio Edit by Lilly Wood and The Prick\\n', '!play Jocelyn Flores by XXXTENTACION\\n', '!play Kamikaze by MØ\\n', '!play Young as the Morning, Old as the Sea - Acoustic by Passenger\\n', '!play Rhyme Or Reason by Eminem\\n', '!play Complicated by Mac Miller\\n', '!play Electric (feat. Khalid) by Alina Baraz\\n', '!play Kanye by The Chainsmokers\\n', '!play Finesse by Pentatonix\\n', '!play The Wrong Direction by Passenger\\n', '!play Latch by Disclosure\\n', '!play One Last Song by Sam Smith\\n', '!play Circles by Mac Miller\\n', '!play Tired of Talking by LÉON\\n', '!play Tunnel of Love by ilyTOMMY\\n', '!play Slide (feat. Frank Ocean & Migos) by Calvin Harris\\n', '!play In the Summertime by Mungo Jerry\\n', '!play Perfect by Pentatonix\\n', '!play Rollin (feat. Future & Khalid) by Calvin Harris\\n', '!play Final Song by MØ\\n', '!play Baby I by Ariana Grande\\n', '!play Love Runs Out by OneRepublic\\n', '!play Pray by Sam Smith\\n', '!play Wild Things by Coast Modern\\n', '!play Firework by Canyon City\\n', '!play No Good For You by Meghan Trainor\\n', '!play Solo by Frank Ocean\\n', '!play Young Dumb & Broke by Khalid\\n', '!play Uno by Rex Orange County\\n', '!play Staring At the Stars by Passenger\\n', '!play Lucky by Jason Mraz\\n', '!play A Sky Full of Stars by Coldplay\\n', '!play Location by Khalid\\n', '!play Rather Be (feat. Jess Glynne) by Clean Bandit\\n', '!play Memories by Maroon 5\\n', '!play Galway Girl by Ed Sheeran\\n', '!play Maple by Felly\\n', '!play HEAVEN BELONGS TO YOU by BROCKHAMPTON\\n', '!play Santeria by Sublime\\n', '!play Morning by Marc E. Bassy\\n', '!play Lay Me Down by Sam Smith\\n', '!play Geronimo by Sheppard\\n', '!play Budapest by George Ezra\\n', '!play She Looks So Perfect by 5 Seconds of Summer\\n', '!play Jealousy by Roy Woods\\n', '!play Finesse - Remix; feat. Cardi B by Bruno Mars\\n', '!play Heebiejeebies - Bonus by Aminé\\n', '!play Home by Passenger\\n', '!play The Long Road - Acoustic by Passenger\\n', '!play Feels (feat. Pharrell Williams, Katy Perry & Big Sean) by Calvin Harris\\n', '!play VICTOR ROBERTS by BROCKHAMPTON\\n', '!play Happier by Ed Sheeran\\n', '!play Writing\\'s On The Wall - From \"Spectre\" Soundtrack by Sam Smith\\n', '!play Holes by Passenger\\n', '!play Drew Barrymore by Bryce Vine\\n', \"!play I Don't Mind (feat. Juicy J) by Usher\\n\", '!play The Buzz (feat. Big K.R.I.T., Mataya & Young Tapz) - Bonus Track by Hermitude\\n', '!play Trumpets by Jason Derulo\\n', \"!play I'm Yours by Jason Mraz\\n\", '!play Feeling Whitney by Post Malone\\n', '!play Fragments - From The Film \"The Smog Of The Sea\" by Jack Johnson\\n', '!play All The Stars (with SZA) by Kendrick Lamar\\n', '!play Overtime by Bryson Tiller\\n', \"!play Ain't Nobody Takin My Baby by Russ\\n\", '!play Blessings (feat. Jamila Woods) by Chance the Rapper\\n', '!play Shot Down by Khalid\\n', '!play Ballin Flossin by Chance the Rapper\\n', '!play Fortunate Son by Creedence Clearwater Revival\\n', '!play 7 Years by Lukas Graham\\n', '!play Dirty Paws by Of Monsters and Men\\n', '!play Spice Girl by Aminé\\n', '!play Midsummer Madness by 88rising\\n', \"!play I'm a Rebel Just For Kicks by Dunez\\n\", \"!play That's How You Know (feat. Kid Ink & Bebe Rexha) by Nico & Vinz\\n\", '!play Fly Me To The Moon (In Other Words) by Frank Sinatra\\n', '!play Gold by Kiiara\\n', '!play White Ferrari by Frank Ocean\\n', '!play Hallelujah by Pentatonix\\n', '!play Exchange by Bryson Tiller\\n', '!play BOY BYE by BROCKHAMPTON\\n', '!play I Will Wait by Mumford & Sons\\n', \"!play Sex n' Drugs by Abhi The Nomad\\n\", '!play Baby I Love Your Way (Reggae) by Reggae Beat\\n', '!play It Ain’t Me (with Selena Gomez) by Kygo\\n', '!play Love Is Alive by Louis The Child\\n', '!play Almost Is Never Enough by Ariana Grande\\n', '!play On Top Of The World by Imagine Dragons\\n', '!play STFU by mansionz\\n', '!play Loving Is Easy by Rex Orange County\\n', '!play Eleanor Rigby - Remastered 2009 by The Beatles\\n', '!play Thunder by Imagine Dragons\\n', '!play Sun Come Down by Chance the Rapper\\n', '!play Minnesota by Lil Yachty\\n', '!play I Can See by Mac Miller\\n', \"!play Ain't No Rest for the Wicked by Cage The Elephant\\n\", '!play Scars To Your Beautiful by Alessia Cara\\n', '!play Bruises by Lewis Capaldi\\n', '!play Winter by Khalid\\n', \"!play I'm Yours / Somewhere over the Rainbow by Straight No Chaser\\n\", '!play Taste (feat. Offset) by Tyga\\n', '!play Fireproof (feat. Teddy Sky) by VAX\\n', '!play Feel It Still by Pentatonix\\n', '!play Drops of Jupiter (Tell Me) by Train\\n', '!play Mama Said by Lukas Graham\\n', '!play Once In a While by Timeflies\\n', '!play Summer by Calvin Harris\\n', '!play Heartless by Kanye West\\n', '!play NO HALO by BROCKHAMPTON\\n', '!play Body by Loud Luxury\\n', '!play SLOW DANCING IN THE DARK by Joji\\n', '!play Let Her Go by Passenger\\n', '!play Toothbrush by DNCE\\n', '!play Happier by Marshmello\\n', '!play Cold Blooded by Khalid\\n', '!play Way It Goes by Hippo Campus\\n', '!play Havana (feat. Young Thug) by Camila Cabello\\n', '!play Starving by Hailee Steinfeld\\n', '!play Rather Be by Pentatonix\\n', \"!play Don't by Bryson Tiller\\n\", \"!play Don't Dream It's Over by Straight No Chaser\\n\", '!play Waiting On the World to Change by John Mayer\\n', '!play Attention by Pentatonix\\n', '!play Cross Me (feat. Chance the Rapper & PnB Rock) by Ed Sheeran\\n', '!play Leave The Night On by Sam Hunt\\n', '!play American Pie by Don McLean\\n', '!play Luv Bug by Wassup Rocker\\n', '!play Reasons by Khalid\\n', \"!play Say You Won't Let Go by James Arthur\\n\", '!play Die For You by The Weeknd\\n', '!play Imagine by Pentatonix\\n', '!play I Took A Pill In Ibiza - Seeb Remix by Mike Posner\\n', '!play Bohemian Rhapsody by Pentatonix\\n', '!play No Problem (feat. Lil Wayne & 2 Chainz) by Chance the Rapper\\n', '!play Waves - Robin Schulz Radio Edit by Mr. Probz\\n', '!play Like I Can by Sam Smith\\n', '!play Take On Me by Pentatonix\\n', '!play I Fall Apart by Post Malone\\n', '!play Hallucinations by dvsn\\n', '!play Ultralight Beam by Kanye West\\n', '!play Hello by Adele\\n', '!play Odd future by UVERworld\\n', '!play Keep On Walking by Passenger\\n', '!play Ivy by Frank Ocean\\n', '!play Go by Louis The Child\\n', '!play Lay Me Down by Sam Smith\\n', '!play Where Are Ü Now by Pentatonix\\n', '!play Suga Suga by Baby Bash\\n', \"!play I Don't Even Know Your Name by Shawn Mendes\\n\", '!play Thinking out Loud by Ed Sheeran\\n', '!play Me And My Broken Heart by Rixton\\n', '!play bad guy by Billie Eilish\\n', '!play Sour Patch Kids by Bryce Vine\\n', \"!play Why Don't You Come On by DJDS\\n\", '!play Corduroy Dreams by Rex Orange County\\n', '!play When We Were Young - Acoustic by Passenger\\n', '!play Good Guy by Frank Ocean\\n', '!play Wait a Minute! by WILLOW\\n', '!play The Way by Ariana Grande\\n', '!play Count on Me by Bruno Mars\\n', '!play BIG BOY by BROCKHAMPTON\\n', '!play PRBLMS by 6LACK\\n', '!play Rebels by Call Me Karizma\\n', '!play Somewhere in Paradise (feat. Jeremih & R. Kelly) by Chance the Rapper\\n', '!play How Would You Feel (Paean) by Ed Sheeran\\n', '!play Lost On You by Lewis Capaldi\\n']\n"
     ]
    }
   ],
   "source": [
    "import random\n",
    "song_file = open(\"./songs.txt\",\"r\")\n",
    "commands = song_file.readlines()\n",
    "song_file.close()\n",
    "random.shuffle(commands)\n",
    "print(commands)"
   ]
  },
  {
   "cell_type": "code",
   "execution_count": 2,
   "metadata": {},
   "outputs": [],
   "source": [
    "from pynput.keyboard import Key, Controller\n",
    "import time"
   ]
  },
  {
   "cell_type": "code",
   "execution_count": null,
   "metadata": {},
   "outputs": [],
   "source": []
  },
  {
   "cell_type": "code",
   "execution_count": 4,
   "metadata": {},
   "outputs": [
    {
     "ename": "KeyboardInterrupt",
     "evalue": "",
     "output_type": "error",
     "traceback": [
      "\u001b[1;31m---------------------------------------------------------------------------\u001b[0m",
      "\u001b[1;31mKeyboardInterrupt\u001b[0m                         Traceback (most recent call last)",
      "\u001b[1;32m<ipython-input-4-2542c170cb06>\u001b[0m in \u001b[0;36m<module>\u001b[1;34m\u001b[0m\n\u001b[0;32m      5\u001b[0m     \u001b[0mkeyboard\u001b[0m\u001b[1;33m.\u001b[0m\u001b[0mpress\u001b[0m\u001b[1;33m(\u001b[0m\u001b[0mKey\u001b[0m\u001b[1;33m.\u001b[0m\u001b[0menter\u001b[0m\u001b[1;33m)\u001b[0m\u001b[1;33m\u001b[0m\u001b[1;33m\u001b[0m\u001b[0m\n\u001b[0;32m      6\u001b[0m     \u001b[0mkeyboard\u001b[0m\u001b[1;33m.\u001b[0m\u001b[0mrelease\u001b[0m\u001b[1;33m(\u001b[0m\u001b[0mKey\u001b[0m\u001b[1;33m.\u001b[0m\u001b[0menter\u001b[0m\u001b[1;33m)\u001b[0m\u001b[1;33m\u001b[0m\u001b[1;33m\u001b[0m\u001b[0m\n\u001b[1;32m----> 7\u001b[1;33m     \u001b[0mtime\u001b[0m\u001b[1;33m.\u001b[0m\u001b[0msleep\u001b[0m\u001b[1;33m(\u001b[0m\u001b[1;36m3\u001b[0m\u001b[1;33m)\u001b[0m\u001b[1;33m\u001b[0m\u001b[1;33m\u001b[0m\u001b[0m\n\u001b[0m",
      "\u001b[1;31mKeyboardInterrupt\u001b[0m: "
     ]
    }
   ],
   "source": [
    "keyboard = Controller()\n",
    "time.sleep(5)\n",
    "for i in commands:\n",
    "    keyboard.type(i)\n",
    "    keyboard.press(Key.enter)\n",
    "    keyboard.release(Key.enter)\n",
    "    time.sleep(3)"
   ]
  },
  {
   "cell_type": "code",
   "execution_count": null,
   "metadata": {},
   "outputs": [],
   "source": []
  }
 ],
 "metadata": {
  "kernelspec": {
   "display_name": "Python 3",
   "language": "python",
   "name": "python3"
  },
  "language_info": {
   "codemirror_mode": {
    "name": "ipython",
    "version": 3
   },
   "file_extension": ".py",
   "mimetype": "text/x-python",
   "name": "python",
   "nbconvert_exporter": "python",
   "pygments_lexer": "ipython3",
   "version": "3.8.3"
  }
 },
 "nbformat": 4,
 "nbformat_minor": 4
}
